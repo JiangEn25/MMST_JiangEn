{
 "cells": [
  {
   "cell_type": "code",
   "execution_count": 1,
   "id": "d510bc84-15b8-4b22-bcab-1c8ad5e9b453",
   "metadata": {},
   "outputs": [
    {
     "name": "stdout",
     "output_type": "stream",
     "text": [
      "hello world!\n"
     ]
    }
   ],
   "source": [
    "print('hello world!')"
   ]
  },
  {
   "cell_type": "code",
   "execution_count": 6,
   "id": "3263a124-7c98-415a-841f-c4964d75071d",
   "metadata": {},
   "outputs": [
    {
     "name": "stdout",
     "output_type": "stream",
     "text": [
      "[ 83  97 100  84  50  31  91  53  78  84]\n"
     ]
    }
   ],
   "source": [
    "import numpy as np\n",
    "rng = np.random.default_rng()\n",
    "a = rng.integers(low=0,high=101,size=10)\n",
    "print(a)"
   ]
  },
  {
   "cell_type": "code",
   "execution_count": 3,
   "id": "06e2176e-660b-41d0-bac6-c71a61cbfadd",
   "metadata": {},
   "outputs": [
    {
     "name": "stdout",
     "output_type": "stream",
     "text": [
      "36.0\n",
      "36.0\n"
     ]
    }
   ],
   "source": [
    "ar_mean1 = sum(a)/len(a)\n",
    "ar_mean2 = np.mean(a)\n",
    "print(ar_mean1)\n",
    "print(ar_mean2)"
   ]
  },
  {
   "cell_type": "code",
   "execution_count": 11,
   "id": "d5604077-0b1c-4954-b7ac-a1ef2c2268da",
   "metadata": {},
   "outputs": [
    {
     "name": "stdout",
     "output_type": "stream",
     "text": [
      "83.5\n",
      "83.5\n"
     ]
    }
   ],
   "source": [
    "a = sorted(a)\n",
    "if len(a)%2 == 0:\n",
    "    median1 = (a[len(a)//2] + a[len(a)//2-1])/2\n",
    "else:\n",
    "    median1 = a[len(a)//2]\n",
    "\n",
    "median2 = np.median(a)\n",
    "print(median1)\n",
    "print(median2)"
   ]
  },
  {
   "cell_type": "code",
   "execution_count": 12,
   "id": "487fdf59-1a56-4dfa-8f0a-1dcca4e4cba6",
   "metadata": {},
   "outputs": [
    {
     "name": "stdout",
     "output_type": "stream",
     "text": [
      "[3 9 9 8 3 8 3 9 6 1 6 0 4 4 5 4 8 9 1 8 1 3 7 6 1 4 5 3 3 1 4 0 0 7 0 2 3\n",
      " 3 6 3 8 8 0 7 2 0 9 4 1 9 5 3 2 2 7 1 1 5 1 8 4 7 0 4 0 4 4 3 4 6 0 1 3 9\n",
      " 0 2 5 2 2 6 8 1 6 2 3 1 9 8 9 3 8 0 9 2 4 3 6 4 4 2 2 0 9 2 0 0 0 5 3 7 4\n",
      " 9 3 5 1 2 3 9 0 1 7 3 3 5 2 9 2 3 8 2 3 0 1 4 6 3 9 4 5 3 9 7 9 7 5 6 5 3\n",
      " 9 3 8 9 3 0 5 4 8 1 1 7 5 2 6 8 9 4 3 8 4 4 6 0 4 2 7 1 2 9 7 1 7 7 9 7 5\n",
      " 0 0 0 1 2 5 0 9 5 0 4 0 9 7 9 0 2 7 0 5 6 2 6 1 4 0 4 0 3 3 4 9 4 5 5 1 0\n",
      " 1 5 1 0 1 4 1 7 4 4 6 7 3 3 3 7 0 3 3 7 1 9 6 4 3 6 8 2 2 3 9 1 7 8 3 5 7\n",
      " 0 7 8 7 4 9 2 6 4 5 5 6 7 5 8 3 7 0 6 6 3 0 3 7 4 4 7 0 7 5 9 3 2 3 9 3 6\n",
      " 6 9 8 3 2 9 0 1 2 6 6 3 4 8 1 5 2 6 7 9 5 8 7 6 2 4 2 9 4 4 0 7 6 4 1 1 1\n",
      " 6 6 0 5 2 2 9 5 0 4 8 0 9 8 1 3 0 2 4 3 6 0 2 8 3 9 2 0 1 0 5 5 7 0 1 4 5\n",
      " 5 5 6 0 3 6 7 3 9 0 5 8 3 8 1 1 2 8 0 9 9 4 4 7 4 4 2 3 6 8 2 6 6 9 7 2 0\n",
      " 4 0 7 7 5 5 4 4 8 9 8 4 7 5 1 8 7 1 0 4 7 3 6 2 6 6 5 2 1 4 2 7 5 6 0 0 2\n",
      " 8 4 0 7 6 6 6 2 4 1 9 0 7 3 1 8 8 3 4 0 7 1 8 2 8 5 5 1 3 0 5 6 9 2 9 3 3\n",
      " 8 0 6 9 8 7 2 3 1 9 9 7 2 8 8 8 9 3 5 9 1 4 3 0 9 2 8 8 6 0 4 0 1 9 1 4 0\n",
      " 1 2 5 7 8 6 8 5 8 9 1 6 0 3 0 4 2 7 8 9 6 8 6 6 5 1 6 8 7 3 3 7 2 5 9 8 8\n",
      " 0 6 8 4 9 4 1 3 2 3 2 4 7 5 0 1 4 7 6 4 7 9 5 5 5 3 9 1 3 0 5 0 1 2 0 8 1\n",
      " 9 9 4 2 6 7 8 3 7 5 6 2 7 3 7 3 7 6 1 1 3 6 3 4 7 5 1 7 0 0 2 0 3 1 1 4 0\n",
      " 2 3 5 1 5 1 8 6 7 6 5 7 0 9 5 0 8 6 0 4 4 3 5 2 0 8 8 5 0 5 2 0 7 6 8 4 1\n",
      " 6 3 8 7 7 2 2 7 3 4 3 4 9 0 7 4 2 8 9 6 8 4 2 6 4 9 2 5 9 0 4 7 7 1 8 8 7\n",
      " 7 2 2 6 4 3 1 0 7 2 1 7 1 3 6 7 7 5 4 0 9 7 5 7 6 5 0 9 8 6 4 6 5 2 8 1 6\n",
      " 7 6 7 4 2 3 7 8 1 4 2 2 1 3 6 4 3 4 7 3 7 2 3 9 8 2 5 2 1 0 0 8 8 2 3 6 9\n",
      " 3 9 8 9 6 9 3 3 9 4 5 0 1 9 0 7 4 0 5 9 6 7 8 8 9 0 3 3 5 4 8 2 8 2 4 1 8\n",
      " 3 3 7 9 4 6 6 6 1 0 4 2 8 9 0 4 1 5 9 8 5 8 0 1 1 6 3 2 3 4 3 7 4 4 5 0 4\n",
      " 7 0 9 2 1 2 3 1 4 3 5 0 2 8 8 1 6 6 0 7 7 6 3 5 6 4 4 1 9 7 8 8 5 7 1 1 5\n",
      " 3 1 0 1 5 4 7 8 9 0 2 7 6 6 5 6 5 8 1 5 9 4 5 2 4 3 6 9 6 0 9 9 4 8 0 9 8\n",
      " 4 7 2 9 0 4 2 7 8 4 6 1 2 6 2 3 4 9 2 1 2 4 2 0 1 2 1 8 8 1 7 3 3 9 0 2 8\n",
      " 3 9 4 4 7 0 1 4 8 8 2 3 5 9 1 0 2 6 0 4 9 6 6 7 0 2 7 9 8 1 1 9 4 2 4 9 6]\n"
     ]
    }
   ],
   "source": [
    "b = rng.integers(low=0,high=10,size=999)\n",
    "print(b)\n"
   ]
  },
  {
   "cell_type": "code",
   "execution_count": 13,
   "id": "531d9c04-4a65-4791-b428-7bde26f6f077",
   "metadata": {},
   "outputs": [
    {
     "name": "stdout",
     "output_type": "stream",
     "text": [
      "4.407407407407407\n",
      "4.407407407407407\n"
     ]
    }
   ],
   "source": [
    "ar_mean1 = sum(b)/len(b)\n",
    "ar_mean2 = np.mean(b)\n",
    "print(ar_mean1)\n",
    "print(ar_mean2)"
   ]
  },
  {
   "cell_type": "code",
   "execution_count": null,
   "id": "38e0df19-cc6e-42ed-a936-876512826ec3",
   "metadata": {},
   "outputs": [],
   "source": []
  },
  {
   "cell_type": "code",
   "execution_count": 14,
   "id": "f61a7340-a486-4539-8cf7-aa008e057ff9",
   "metadata": {},
   "outputs": [
    {
     "name": "stdout",
     "output_type": "stream",
     "text": [
      "4\n",
      "4.0\n"
     ]
    }
   ],
   "source": [
    "b = sorted(b)\n",
    "if len(b)%2 == 0:\n",
    "    median1 = (b[len(b)//2] + b[len(b)//2-1])/2\n",
    "else:\n",
    "    median1 = b[len(b)//2]\n",
    "\n",
    "median2 = np.median(b)\n",
    "print(median1)\n",
    "print(median2)"
   ]
  },
  {
   "cell_type": "code",
   "execution_count": null,
   "id": "845a542b-0eea-4a54-880f-fc7222f10e4e",
   "metadata": {},
   "outputs": [],
   "source": []
  }
 ],
 "metadata": {
  "kernelspec": {
   "display_name": "Python 3 (ipykernel)",
   "language": "python",
   "name": "python3"
  },
  "language_info": {
   "codemirror_mode": {
    "name": "ipython",
    "version": 3
   },
   "file_extension": ".py",
   "mimetype": "text/x-python",
   "name": "python",
   "nbconvert_exporter": "python",
   "pygments_lexer": "ipython3",
   "version": "3.10.6"
  }
 },
 "nbformat": 4,
 "nbformat_minor": 5
}
