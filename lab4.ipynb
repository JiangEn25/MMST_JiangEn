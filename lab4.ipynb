{
 "cells": [
  {
   "cell_type": "code",
   "execution_count": 1,
   "id": "f72182b7-ca41-4fc6-9540-1e55328f1fd3",
   "metadata": {},
   "outputs": [
    {
     "name": "stdout",
     "output_type": "stream",
     "text": [
      "[[-1.]\n",
      " [ 2.]]\n",
      "[[0.]\n",
      " [0.]]\n"
     ]
    }
   ],
   "source": [
    "import numpy as np\n",
    "from scipy.linalg import solve\n",
    "from scipy.optimize import linprog\n",
    "#A\n",
    "A = np.array([[5,2],[3,-2]])\n",
    "b = np.array([[-1],[-7]])\n",
    "\n",
    "x = solve(A,b)\n",
    "print(x)\n",
    "\n",
    "print(A.dot(x) - b)"
   ]
  },
  {
   "cell_type": "code",
   "execution_count": 2,
   "id": "c20626e8-86f6-4983-8a7f-d328c3fbd83c",
   "metadata": {},
   "outputs": [
    {
     "name": "stdout",
     "output_type": "stream",
     "text": [
      "Optimization terminated successfully. (HiGHS Status 7: Optimal)\n",
      "[0. 0. 3.]\n",
      "12.0\n"
     ]
    }
   ],
   "source": [
    "#num.3\n",
    "c = np.array([-6,4,4])\n",
    "A_ub = np.array([[3,1,-1],[2,4,-1]])\n",
    "b_ub = np.array([-2,-3])\n",
    "\n",
    "x0_bounds = (0, None)\n",
    "x1_bounds = (0, None)\n",
    "x2_bounds = (0, None)\n",
    "bounds = [x0_bounds,x1_bounds,x2_bounds]\n",
    "\n",
    "result = linprog(c,A_ub=A_ub,b_ub=b_ub,bounds=bounds)\n",
    "\n",
    "print(result.message)\n",
    "print(result.x)\n",
    "print(result.fun)"
   ]
  },
  {
   "cell_type": "code",
   "execution_count": null,
   "id": "4503e82c-ab29-4c95-b439-e1271337f0b6",
   "metadata": {},
   "outputs": [],
   "source": []
  }
 ],
 "metadata": {
  "kernelspec": {
   "display_name": "Python 3 (ipykernel)",
   "language": "python",
   "name": "python3"
  },
  "language_info": {
   "codemirror_mode": {
    "name": "ipython",
    "version": 3
   },
   "file_extension": ".py",
   "mimetype": "text/x-python",
   "name": "python",
   "nbconvert_exporter": "python",
   "pygments_lexer": "ipython3",
   "version": "3.10.6"
  }
 },
 "nbformat": 4,
 "nbformat_minor": 5
}
